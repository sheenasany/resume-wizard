{
 "cells": [
  {
   "cell_type": "markdown",
   "metadata": {},
   "source": [
    "install deps\n"
   ]
  },
  {
   "cell_type": "code",
   "execution_count": null,
   "metadata": {},
   "outputs": [],
   "source": [
    "%pip install openai\n",
    "%pip install python-dotenv\n",
    "%pip install PyPDF2\n",
    "%pip install transformers\n",
    "%pip install tiktoken\n",
    "%pip install beautifulsoup4\n",
    "%pip install webdriver-manager\n",
    "%pip install tqdm\n",
    "%pip install selenium\n",
    "\n"
   ]
  },
  {
   "cell_type": "markdown",
   "metadata": {},
   "source": [
    "import libs\n"
   ]
  },
  {
   "cell_type": "code",
   "execution_count": null,
   "metadata": {},
   "outputs": [],
   "source": [
    "import openai\n",
    "import json\n",
    "import os\n",
    "import dotenv\n",
    "import PyPDF2\n",
    "import transformers\n",
    "import tiktoken\n",
    "import requests\n",
    "from bs4 import BeautifulSoup\n",
    "from selenium import webdriver\n",
    "\n",
    "dotenv.load_dotenv()"
   ]
  },
  {
   "cell_type": "markdown",
   "metadata": {},
   "source": [
    "import api key\n"
   ]
  },
  {
   "cell_type": "code",
   "execution_count": null,
   "metadata": {},
   "outputs": [],
   "source": [
    "OPENAI_API_KEY = os.environ[\"OPENAI_API_KEY\"]"
   ]
  },
  {
   "cell_type": "markdown",
   "metadata": {},
   "source": [
    "Test API\n"
   ]
  },
  {
   "cell_type": "code",
   "execution_count": null,
   "metadata": {},
   "outputs": [],
   "source": [
    "openai.api_key = OPENAI_API_KEY\n",
    "\n",
    "# list models\n",
    "models = openai.Model.list()\n",
    "\n",
    "# print the first model's id\n",
    "print(models.data[0].id)\n",
    "\n",
    "# create a chat completion\n",
    "chat_completion = openai.ChatCompletion.create(\n",
    "    model=\"gpt-4\", messages=[{\"role\": \"user\", \"content\": \"Hello world\"}]\n",
    ")\n",
    "\n",
    "# print the chat completion\n",
    "print(chat_completion.choices[0].message.content)"
   ]
  },
  {
   "cell_type": "markdown",
   "metadata": {},
   "source": [
    "list available models\n"
   ]
  },
  {
   "cell_type": "code",
   "execution_count": null,
   "metadata": {},
   "outputs": [],
   "source": [
    "# list available models\n",
    "openai.Engine.list()"
   ]
  },
  {
   "cell_type": "markdown",
   "metadata": {},
   "source": [
    "pdf loading and parsing\n"
   ]
  },
  {
   "cell_type": "code",
   "execution_count": null,
   "metadata": {},
   "outputs": [],
   "source": [
    "def extract_pdf_text(file_path):\n",
    "    with open(file_path, \"rb\") as file:\n",
    "        reader = PyPDF2.PdfReader(file)\n",
    "        num_pages = len(reader.pages)\n",
    "        all_text = \"\"\n",
    "\n",
    "        for page_num in range(num_pages):\n",
    "            page = reader.pages[page_num]\n",
    "            all_text += page.extract_text()\n",
    "            all_text += \"\\n\\n\"  # Add two newlines between each page\n",
    "\n",
    "    return all_text\n",
    "\n",
    "\n",
    "# Replace 'your_file.pdf' with the path to the PDF file you want to read\n",
    "file_path = \"Rowan_Osmon_-_Shell_Hacks.PDF\"\n",
    "extracted_text = extract_pdf_text(file_path)\n",
    "print(extracted_text)"
   ]
  },
  {
   "cell_type": "code",
   "execution_count": null,
   "metadata": {},
   "outputs": [],
   "source": [
    "extracted_text\n",
    "print(extracted_text)"
   ]
  },
  {
   "cell_type": "markdown",
   "metadata": {},
   "source": [
    "check total token count\n"
   ]
  },
  {
   "cell_type": "code",
   "execution_count": null,
   "metadata": {},
   "outputs": [],
   "source": [
    "from transformers import GPT2Tokenizer\n",
    "\n",
    "\n",
    "def count_tokens_openai(text):\n",
    "    tokenizer = GPT2Tokenizer.from_pretrained(\"gpt2\")\n",
    "    encoded_input = tokenizer(text)\n",
    "    return len(encoded_input[\"input_ids\"])\n",
    "\n",
    "\n",
    "# Test the function\n",
    "token_count = count_tokens_openai(extracted_text)\n",
    "print(f\"Total token count: {token_count}\")"
   ]
  },
  {
   "cell_type": "code",
   "execution_count": null,
   "metadata": {},
   "outputs": [],
   "source": [
    "tokenizer = transformers.AutoTokenizer.from_pretrained(\"openai-gpt\")\n",
    "\n",
    "# Tokenize a sentence\n",
    "tokens = tokenizer(extracted_text)\n",
    "\n",
    "# Print the tokens\n",
    "print(tokens)"
   ]
  },
  {
   "cell_type": "code",
   "execution_count": null,
   "metadata": {},
   "outputs": [],
   "source": [
    "def num_tokens_from_string(string: str, encoding_name: str) -> int:\n",
    "    \"\"\"Returns the number of tokens in a text string.\"\"\"\n",
    "    encoding = tiktoken.get_encoding(encoding_name)\n",
    "    num_tokens = len(encoding.encode(string))\n",
    "    return num_tokens\n",
    "\n",
    "\n",
    "res = num_tokens_from_string(extracted_text, \"gpt2\")\n",
    "res"
   ]
  },
  {
   "cell_type": "code",
   "execution_count": null,
   "metadata": {},
   "outputs": [],
   "source": [
    "extracted_text_edited = extracted_text.replace(\"\\n\", \" \")\n",
    "message = f\"please analyze this resume: {extracted_text_edited}\"\n",
    "message"
   ]
  },
  {
   "cell_type": "code",
   "execution_count": null,
   "metadata": {},
   "outputs": [],
   "source": [
    "chat_completion = openai.ChatCompletion.create(\n",
    "    model=\"gpt-4\", messages=[{\"role\": \"user\", f\"content\": message}]\n",
    ")\n",
    "\n",
    "# print the chat completion\n",
    "print(chat_completion.choices[0].message.content)"
   ]
  },
  {
   "cell_type": "markdown",
   "metadata": {},
   "source": [
    "test function calling to extract person details\n"
   ]
  },
  {
   "cell_type": "code",
   "execution_count": null,
   "metadata": {},
   "outputs": [],
   "source": [
    "messages = [{\"role\": \"user\", \"content\": extracted_text_edited}]\n",
    "functions = [\n",
    "    {\n",
    "        \"name\": \"extractPersonDetails\",\n",
    "        \"description\": \"extract personal details from resume text\",\n",
    "        \"parameters\": {\n",
    "            \"type\": \"object\",\n",
    "            \"properties\": {\n",
    "                \"firstname\": {\n",
    "                    \"type\": \"string\",\n",
    "                    \"description\": \"first name from resume eg john\",\n",
    "                },\n",
    "                \"lastname\": {\n",
    "                    \"type\": \"string\",\n",
    "                    \"description\": \"last name from resume eg doe\",\n",
    "                },\n",
    "                \"email\": {\n",
    "                    \"type\": \"string\",\n",
    "                    \"description\": \"email from resume eg john@gmail.com\",\n",
    "                },\n",
    "                \"phonenumber\": {\n",
    "                    \"type\": \"string\",\n",
    "                    \"description\": \"phone number from resume eg 1234567890\",\n",
    "                },\n",
    "                \"link1\": {\n",
    "                    \"type\": \"string\",\n",
    "                    \"description\": \"link from resume eg linkedin.com/johndoe\",\n",
    "                },\n",
    "                \"link2\": {\n",
    "                    \"type\": \"string\",\n",
    "                    \"description\": \"link from resume eg github.com/johndoe\",\n",
    "                },\n",
    "                \"link3\": {\n",
    "                    \"type\": \"string\",\n",
    "                    \"description\": \"link from resume eg personalwebsite.com/johndoe\",\n",
    "                },\n",
    "            },\n",
    "            \"required\": [\"firstname\", \"lastname\", \"email\", \"phonenumber\"],\n",
    "        },\n",
    "    }\n",
    "]\n",
    "response = openai.ChatCompletion.create(\n",
    "    model=\"gpt-4\",\n",
    "    messages=messages,\n",
    "    functions=functions,\n",
    "    function_call=\"auto\",  # auto is default, but we'll be explicit\n",
    ")\n",
    "response_message = response[\"choices\"][0][\"message\"][\"function_call\"]\n",
    "response_message"
   ]
  },
  {
   "cell_type": "code",
   "execution_count": null,
   "metadata": {},
   "outputs": [],
   "source": [
    "json_text = json.loads(response_message.to_dict()[\"arguments\"])\n",
    "json_text"
   ]
  },
  {
   "cell_type": "markdown",
   "metadata": {},
   "source": [
    "AI skill extraction\n"
   ]
  },
  {
   "cell_type": "code",
   "execution_count": null,
   "metadata": {},
   "outputs": [],
   "source": [
    "messages = [{\"role\": \"user\", \"content\": extracted_text_edited}]\n",
    "functions = [\n",
    "    {\n",
    "        \"name\": \"extractPersonSkills\",\n",
    "        \"description\": \"extract list of skills from resume text\",\n",
    "        \"parameters\": {\n",
    "            \"type\": \"object\",\n",
    "            \"properties\": {\n",
    "                \"skills\": {\n",
    "                    \"type\": \"string\",\n",
    "                    \"description\": \"list of skills from resume eg ['python','java', 'gcp', 'aws']\",\n",
    "                }\n",
    "            },\n",
    "            \"required\": [\"skills\"],\n",
    "        },\n",
    "    }\n",
    "]\n",
    "response = openai.ChatCompletion.create(\n",
    "    model=\"gpt-4\",\n",
    "    messages=messages,\n",
    "    functions=functions,\n",
    "    function_call=\"auto\",  # auto is default, but we'll be explicit\n",
    ")\n",
    "response_message = response[\"choices\"][0][\"message\"][\"function_call\"]\n",
    "response_message"
   ]
  },
  {
   "cell_type": "code",
   "execution_count": null,
   "metadata": {},
   "outputs": [],
   "source": [
    "json_text = json.loads(response_message.to_dict()[\"arguments\"])\n",
    "json_text = [x.strip() for x in json_text[\"skills\"].split(\",\")]\n",
    "json_text"
   ]
  },
  {
   "cell_type": "code",
   "execution_count": null,
   "metadata": {},
   "outputs": [],
   "source": [
    "messages = [{\"role\": \"user\", \"content\": extracted_text_edited}]\n",
    "functions = [\n",
    "    {\n",
    "        \"name\": \"extractPersonEducation\",\n",
    "        \"description\": \"extract list of education from resume text\",\n",
    "        \"parameters\": {\n",
    "            \"type\": \"object\",\n",
    "            \"properties\": {\n",
    "                \"education\": {\n",
    "                    \"type\": \"object\",\n",
    "                    \"description\": \"a json array of education from resume eg [{'name':'FIU', 'degree':'Bachelors of Science', 'major':'Computer Science', 'graduationDate':'2021'}]\",\n",
    "                    \"properties\": {\n",
    "                        \"name\": {\n",
    "                            \"type\": \"string\",\n",
    "                            \"description\": \"name of education from resume such as colleges and bootcamps eg FIU, 4geeks\",\n",
    "                        },\n",
    "                        \"degree\": {\n",
    "                            \"type\": \"string\",\n",
    "                            \"description\": \"degree from resume eg Bachelors of Science\",\n",
    "                        },\n",
    "                        \"major\": {\n",
    "                            \"type\": \"string\",\n",
    "                            \"description\": \"major from resume eg Computer Science, business, engineering\",\n",
    "                        },\n",
    "                        \"graduationDate\": {\n",
    "                            \"type\": \"string\",\n",
    "                            \"description\": \"graduation date from resume eg 2021, 2022, 2023\",\n",
    "                        },\n",
    "                    },\n",
    "                }\n",
    "            },\n",
    "            \"required\": [\"name\", \"degree\", \"major\", \"graduationDate\"],\n",
    "        },\n",
    "    }\n",
    "]\n",
    "response = openai.ChatCompletion.create(\n",
    "    model=\"gpt-4\",\n",
    "    messages=messages,\n",
    "    functions=functions,\n",
    "    function_call=\"auto\",  # auto is default, but we'll be explicit\n",
    ")\n",
    "response_message = response[\"choices\"][0][\"message\"][\"function_call\"]\n",
    "response_message"
   ]
  },
  {
   "cell_type": "code",
   "execution_count": null,
   "metadata": {},
   "outputs": [],
   "source": [
    "json_text = json.loads(response_message.to_dict()[\"arguments\"])\n",
    "json_text"
   ]
  },
  {
   "cell_type": "code",
   "execution_count": null,
   "metadata": {},
   "outputs": [],
   "source": [
    "messages = [{\"role\": \"user\", \"content\": extracted_text_edited}]\n",
    "functions = [\n",
    "    {\n",
    "        \"name\": \"extractPersonExperience\",\n",
    "        \"description\": \"extract an array of experiences from resume text\",\n",
    "        \"parameters\": {\n",
    "            \"type\": \"object\",\n",
    "            \"properties\": {\n",
    "                \"experience\": {\n",
    "                    \"type\": \"object\",\n",
    "                    \"description\": \" a json array of experiences from resume eg [{'name':'google', 'title':'software engineer', 'company':'google', 'start':'2021', 'end':'2022', 'description':'built a website using react and python'}], must return the job object in an array\",\n",
    "                    \"properties\": {\n",
    "                        \"title\": {\n",
    "                            \"type\": \"string\",\n",
    "                            \"description\": \"job title from resume eg software engineer, data scientist\",\n",
    "                        },\n",
    "                        \"company\": {\n",
    "                            \"type\": \"string\",\n",
    "                            \"description\": \"name of company from resume eg google, facebook\",\n",
    "                        },\n",
    "                        \"start\": {\n",
    "                            \"type\": \"string\",\n",
    "                            \"description\": \"start date from resume eg 2021, 2022, 2023 or november 2021, april 2022\",\n",
    "                        },\n",
    "                        \"end\": {\n",
    "                            \"type\": \"string\",\n",
    "                            \"description\": \"end date from resume eg 2021, 2022, 2023 or november 2021, april 2022\",\n",
    "                        },\n",
    "                        \"description\": {\n",
    "                            \"type\": \"string\",\n",
    "                            \"description\": \"job description from resume eg built a website using react and python\",\n",
    "                        },\n",
    "                    },\n",
    "                }\n",
    "            },\n",
    "            \"required\": [\"title\", \"company\", \"start\", \"end\", \"description\"],\n",
    "        },\n",
    "    }\n",
    "]\n",
    "response = openai.ChatCompletion.create(\n",
    "    model=\"gpt-4\",\n",
    "    messages=messages,\n",
    "    functions=functions,\n",
    "    function_call=\"auto\",  # auto is default, but we'll be explicit\n",
    ")\n",
    "response_message = response[\"choices\"][0][\"message\"][\"function_call\"]\n",
    "response_message"
   ]
  },
  {
   "cell_type": "code",
   "execution_count": null,
   "metadata": {},
   "outputs": [],
   "source": [
    "json_text = json.loads(response_message.to_dict()[\"arguments\"])\n",
    "json_text"
   ]
  },
  {
   "cell_type": "code",
   "execution_count": null,
   "metadata": {},
   "outputs": [],
   "source": [
    "job_url = \"https://getwork.com/search/results?keyword=software+engineer&company_ids=&location=&jobId=bc76c8963dd9d02af0335b53567c01bb\""
   ]
  },
  {
   "cell_type": "markdown",
   "metadata": {},
   "source": [
    "naive, only get initial page load"
   ]
  },
  {
   "cell_type": "code",
   "execution_count": null,
   "metadata": {},
   "outputs": [],
   "source": [
    "\n",
    "\n",
    "def scraper(url):\n",
    "    try:\n",
    "        # Fetch the content of the URL using the requests library\n",
    "        response = requests.get(url)\n",
    "        response.raise_for_status()  # Raise an HTTPError for bad responses\n",
    "        \n",
    "        # Parse the HTML content using BeautifulSoup\n",
    "        soup = BeautifulSoup(response.text, 'html.parser')\n",
    "        \n",
    "        # Extract and return text content (as a demonstration)\n",
    "        text_content = soup.stripped_strings\n",
    "        return ' '.join(text_content)\n",
    "        \n",
    "    except requests.RequestException as e:\n",
    "        return f\"An error occurred: {e}\"\n",
    "\n",
    "content = scraper(job_url)\n",
    "print(content)\n"
   ]
  },
  {
   "cell_type": "markdown",
   "metadata": {},
   "source": [
    "using a headless web driver"
   ]
  },
  {
   "cell_type": "code",
   "execution_count": null,
   "metadata": {},
   "outputs": [],
   "source": [
    "from selenium import webdriver\n",
    "from selenium.webdriver.chrome.options import Options\n",
    "from bs4 import BeautifulSoup\n",
    "\n",
    "def scraper(url):\n",
    "    try:\n",
    "        # Initialize headless Chrome\n",
    "        chrome_options = Options()\n",
    "        chrome_options.add_argument(\"--headless\")\n",
    "        driver = webdriver.Chrome(options=chrome_options)\n",
    "\n",
    "        # Navigate to the URL\n",
    "        driver.get(url)\n",
    "\n",
    "        # Optional: Wait for JavaScript to load the dynamic content\n",
    "        # You can set a specific time or wait for a specific element to appear\n",
    "        # import time\n",
    "        # time.sleep(5)\n",
    "\n",
    "        # Get the page source\n",
    "        page_source = driver.page_source\n",
    "\n",
    "        # Close the browser\n",
    "        driver.quit()\n",
    "\n",
    "        # Parse the HTML content using BeautifulSoup\n",
    "        soup = BeautifulSoup(page_source, 'html.parser')\n",
    "\n",
    "        # Search for the element by its id\n",
    "        job_desc_elem = soup.find(id='job-desc')\n",
    "        # print(job_desc_elem)\n",
    "\n",
    "        # Extract and return the text content if the element is found\n",
    "        if job_desc_elem:\n",
    "            text_content = job_desc_elem.stripped_strings\n",
    "            return ' '.join(text_content)\n",
    "        else:\n",
    "            return \"Element with id 'job-desc' not found\"\n",
    "\n",
    "    except Exception as e:\n",
    "        return f\"An error occurred: {e}\"\n",
    "\n",
    "# Example usage\n",
    "if __name__ == \"__main__\":\n",
    "    job_url = job_url\n",
    "    content = scraper(job_url)\n",
    "    print(content)\n"
   ]
  },
  {
   "cell_type": "code",
   "execution_count": null,
   "metadata": {},
   "outputs": [],
   "source": [
    "from datetime import datetime\n",
    "\n",
    "messages = [{\"role\": \"user\", \"content\": f'currentdate:{datetime.now().strftime(\"%Y-%m-%d %H:%M:%S\")}, job details: {content}'}]\n",
    "functions = [\n",
    "    {\n",
    "        \"name\": \"extractJobDetails\",\n",
    "        \"description\": \"extract job details from job description text, return json object\",\n",
    "        \"parameters\": {\n",
    "            \"type\": \"object\",\n",
    "            \"properties\": {\n",
    "                \"experience\": {\n",
    "                    \"type\": \"object\",\n",
    "                    \"description\": \"\",\n",
    "                    \"properties\": {\n",
    "                        \"description\": {\n",
    "                            \"type\": \"string\",\n",
    "                            \"description\": \"job description from job description text eg a SaaS company is looking for a software engineer to build a website using react and python\",\n",
    "                        },\n",
    "                        \"responsibilities\": {\n",
    "                            \"type\": \"string\",\n",
    "                            \"description\": \"job responsibilities from job description text eg take requirements from product manager and convert them to business logic\",\n",
    "                        },\n",
    "                        \"requirements\": {\n",
    "                            \"type\": \"string\",\n",
    "                            \"description\": \"job requirements from job description text eg \",\n",
    "                        },\n",
    "                        \"compensation\": {\n",
    "                            \"type\": \"string\",\n",
    "                            \"description\": \"job compensation from job description text eg $50,000 to $100,000\",\n",
    "                        },\n",
    "                        \"benefits\": {\n",
    "                            \"type\": \"string\",\n",
    "                            \"description\": \"a summary of the job benefits from job description text eg we offer health insurance, dental insurance, and 401k\",\n",
    "                        },\n",
    "                        \"companyvalues\": {\n",
    "                            \"type\": \"string\",\n",
    "                            \"description\": \"a summary of the company values from job description text eg we value diversity, inclusion, and teamwork\",\n",
    "                        },\n",
    "                        \"deadline\": {\n",
    "                            \"type\": \"string\",\n",
    "                            \"description\": \"a deadline for the job application from job description text eg 2021-10-10\",\n",
    "                        },\n",
    "                        \"regularhours\": {\n",
    "                            \"type\": \"string\",\n",
    "                            \"description\": \"Get Job regularhours of job from job description text the type is one of the following: fulltime, parttime, contract, internship, temporary, or volunteer\",\n",
    "                        }\n",
    "                    },\n",
    "                }\n",
    "            },\n",
    "            \"required\": [\"description\", \"responsibilities\", \"requirements\", \"compensation\", \"benefits\", \"companyvalues\", \"deadline\", \"type\"],\n",
    "        },\n",
    "    }\n",
    "]\n",
    "response = openai.ChatCompletion.create(\n",
    "    model=\"gpt-4\",\n",
    "    messages=messages,\n",
    "    functions=functions,\n",
    "    function_call=\"auto\",  # auto is default, but we'll be explicit\n",
    ")\n",
    "response_message = response[\"choices\"][0][\"message\"][\"function_call\"]\n",
    "response_message"
   ]
  },
  {
   "cell_type": "code",
   "execution_count": null,
   "metadata": {},
   "outputs": [],
   "source": [
    "json_text = json.loads(response_message[\"arguments\"])\n",
    "json_text\n"
   ]
  },
  {
   "cell_type": "code",
   "execution_count": null,
   "metadata": {},
   "outputs": [],
   "source": [
    "from datetime import datetime\n",
    "\n",
    "messages = [{\"role\": \"user\", \"content\": f'currentdate:{datetime.now().strftime(\"%Y-%m-%d %H:%M:%S\")}, job details: {content}'}]\n",
    "functions = [\n",
    "    {\n",
    "        \"name\": \"extractJobSkills\",\n",
    "        \"description\": \"extract a list of technical job skills from job description text\",\n",
    "        \"parameters\": {\n",
    "            \"type\": \"object\",\n",
    "            \"properties\": {\n",
    "                \"skills\": {\n",
    "                    \"type\": \"object\",\n",
    "                    \"description\": \"returns a json array of technical job skills from job description text eg [{'name':'python', 'description':'python is a programming language'}]\",\n",
    "                    \"properties\": {\n",
    "                        \"Skillname\": {\n",
    "                            \"type\": \"string\",\n",
    "                            \"description\": \"technical job skill or requirement from job description text eg python, java, docker, aws, gcp\",\n",
    "                        },\n",
    "                        \"skilldescription\": {\n",
    "                            \"type\": \"string\",\n",
    "                            \"description\": \"a short summarized description of technical job skills from job description and the experience level text eg intermediate python is a programming language\",\n",
    "                        },\n",
    "                    },\n",
    "                }\n",
    "            },\n",
    "            \"required\": [\"name\", \"description\"],\n",
    "        },\n",
    "    }\n",
    "]\n",
    "response = openai.ChatCompletion.create(\n",
    "    model=\"gpt-4\",\n",
    "    messages=messages,\n",
    "    functions=functions,\n",
    "    function_call=\"auto\",  # auto is default, but we'll be explicit\n",
    ")\n",
    "response_message = response[\"choices\"][0][\"message\"][\"function_call\"]\n",
    "response_message"
   ]
  },
  {
   "cell_type": "code",
   "execution_count": null,
   "metadata": {},
   "outputs": [],
   "source": [
    "json_text = json.loads(response_message[\"arguments\"])\n",
    "json_text"
   ]
  },
  {
   "cell_type": "code",
   "execution_count": null,
   "metadata": {},
   "outputs": [],
   "source": [
    "from datetime import datetime\n",
    "\n",
    "messages = [{\"role\": \"user\", \"content\": f'currentdate:{datetime.now().strftime(\"%Y-%m-%d %H:%M:%S\")}, job details: {content}'}]\n",
    "functions = [\n",
    "    {\n",
    "        \"name\": \"extractJobLocation\",\n",
    "        \"description\": \"extract job location from job description text\",\n",
    "        \"parameters\": {\n",
    "            \"type\": \"object\",\n",
    "            \"properties\": {\n",
    "                \"location\": {\n",
    "                    \"type\": \"object\",\n",
    "                    \"description\": \"returns a details of the jobs location from job description text eg [{'city':'miami', 'state':'florida', 'country':'united states', 'remote':'false'}] \",\n",
    "                    \"properties\": {\n",
    "                        \"city\": {\n",
    "                            \"type\": \"string\",\n",
    "                            \"description\": \"extract city from job description text eg miami, new york, san francisco\",\n",
    "                        },\n",
    "                        \"state\": {\n",
    "                            \"type\": \"string\",\n",
    "                            \"description\": \"extract state from job description text eg florida, new york, california\",\n",
    "                        },\n",
    "                        \"country\": {\n",
    "                            \"type\": \"string\",\n",
    "                            \"description\": \"extract country from job description text eg united states, canada, mexico\",\n",
    "                        },\n",
    "                        \"remote\": {\n",
    "                            \"type\": \"string\",\n",
    "                            \"description\": \"extract remote from job description text eg true, false\",\n",
    "                        },\n",
    "                    },\n",
    "                }\n",
    "            },\n",
    "            \"required\": [\"city\", \"state\", \"country\", \"remote\"],\n",
    "        },\n",
    "    }\n",
    "]\n",
    "response = openai.ChatCompletion.create(\n",
    "    model=\"gpt-4\",\n",
    "    messages=messages,\n",
    "    functions=functions,\n",
    "    function_call=\"auto\",  # auto is default, but we'll be explicit\n",
    ")\n",
    "response_message = response[\"choices\"][0][\"message\"][\"function_call\"]\n",
    "response_message"
   ]
  },
  {
   "cell_type": "code",
   "execution_count": null,
   "metadata": {},
   "outputs": [],
   "source": [
    "json_text = json.loads(response_message[\"arguments\"])\n",
    "json_text"
   ]
  },
  {
   "cell_type": "markdown",
   "metadata": {},
   "source": [
    "summary function"
   ]
  },
  {
   "cell_type": "code",
   "execution_count": null,
   "metadata": {},
   "outputs": [],
   "source": [
    "from datetime import datetime\n",
    "\n",
    "messages = [{\"role\": \"user\", \"content\": content}]\n",
    "functions = [\n",
    "    {\n",
    "        \"name\": \"summary\",\n",
    "        \"description\": \"a long detailed summary of text, include all details\",\n",
    "        \"parameters\": {\n",
    "            \"type\": \"object\",\n",
    "            \"properties\": {\n",
    "                \"summary\": {\n",
    "                    \"type\": \"string\",\n",
    "                    \"description\": \"summary of text\",\n",
    "                    },\n",
    "                }\n",
    "            },\n",
    "            \"required\": [\"city\", \"state\", \"country\", \"remote\"],\n",
    "    }\n",
    "]\n",
    "response = openai.ChatCompletion.create(\n",
    "    model=\"gpt-4\",\n",
    "    messages=messages,\n",
    "    functions=functions,\n",
    "    function_call=\"auto\",  # auto is default, but we'll be explicit\n",
    ")\n",
    "response_message = response[\"choices\"][0][\"message\"][\"function_call\"]\n",
    "response_message"
   ]
  },
  {
   "cell_type": "code",
   "execution_count": null,
   "metadata": {},
   "outputs": [],
   "source": [
    "json_text = json.loads(response_message[\"arguments\"])\n",
    "json_text"
   ]
  }
 ],
 "metadata": {
  "kernelspec": {
   "display_name": "resumewizard",
   "language": "python",
   "name": "python3"
  },
  "language_info": {
   "codemirror_mode": {
    "name": "ipython",
    "version": 3
   },
   "file_extension": ".py",
   "mimetype": "text/x-python",
   "name": "python",
   "nbconvert_exporter": "python",
   "pygments_lexer": "ipython3",
   "version": "3.8.17"
  },
  "orig_nbformat": 4
 },
 "nbformat": 4,
 "nbformat_minor": 2
}
