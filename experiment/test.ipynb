{
 "cells": [
  {
   "cell_type": "markdown",
   "metadata": {},
   "source": [
    "install deps\n"
   ]
  },
  {
   "cell_type": "code",
   "execution_count": null,
   "metadata": {},
   "outputs": [],
   "source": [
    "%pip install openai\n",
    "%pip install python-dotenv\n",
    "%pip install PyPDF2\n",
    "%pip install transformers\n",
    "%pip install tiktoken\n",
    "%pip install beautifulsoup4\n",
    "%pip install webdriver-manager\n",
    "%pip install tqdm\n",
    "%pip install selenium\n",
    "\n"
   ]
  },
  {
   "cell_type": "markdown",
   "metadata": {},
   "source": [
    "import libs\n"
   ]
  },
  {
   "cell_type": "code",
   "execution_count": null,
   "metadata": {},
   "outputs": [],
   "source": [
    "import openai\n",
    "import json\n",
    "import os\n",
    "import dotenv\n",
    "import PyPDF2\n",
    "import transformers\n",
    "import tiktoken\n",
    "import requests\n",
    "from bs4 import BeautifulSoup\n",
    "from selenium import webdriver\n",
    "\n",
    "dotenv.load_dotenv()"
   ]
  },
  {
   "cell_type": "markdown",
   "metadata": {},
   "source": [
    "import api key\n"
   ]
  },
  {
   "cell_type": "code",
   "execution_count": null,
   "metadata": {},
   "outputs": [],
   "source": [
    "OPENAI_API_KEY = os.environ[\"OPENAI_API_KEY\"]"
   ]
  },
  {
   "cell_type": "markdown",
   "metadata": {},
   "source": [
    "Test API\n"
   ]
  },
  {
   "cell_type": "code",
   "execution_count": null,
   "metadata": {},
   "outputs": [],
   "source": [
    "openai.api_key = OPENAI_API_KEY\n",
    "\n",
    "# list models\n",
    "models = openai.Model.list()\n",
    "\n",
    "# print the first model's id\n",
    "print(models.data[0].id)\n",
    "\n",
    "# create a chat completion\n",
    "chat_completion = openai.ChatCompletion.create(\n",
    "    model=\"gpt-4\", messages=[{\"role\": \"user\", \"content\": \"Hello world\"}]\n",
    ")\n",
    "\n",
    "# print the chat completion\n",
    "print(chat_completion.choices[0].message.content)"
   ]
  },
  {
   "cell_type": "markdown",
   "metadata": {},
   "source": [
    "list available models\n"
   ]
  },
  {
   "cell_type": "code",
   "execution_count": null,
   "metadata": {},
   "outputs": [],
   "source": [
    "# list available models\n",
    "openai.Engine.list()"
   ]
  },
  {
   "cell_type": "markdown",
   "metadata": {},
   "source": [
    "pdf loading and parsing\n"
   ]
  },
  {
   "cell_type": "code",
   "execution_count": null,
   "metadata": {},
   "outputs": [],
   "source": [
    "def extract_pdf_text(file_path):\n",
    "    with open(file_path, \"rb\") as file:\n",
    "        reader = PyPDF2.PdfReader(file)\n",
    "        num_pages = len(reader.pages)\n",
    "        all_text = \"\"\n",
    "\n",
    "        for page_num in range(num_pages):\n",
    "            page = reader.pages[page_num]\n",
    "            all_text += page.extract_text()\n",
    "            all_text += \"\\n\\n\"  # Add two newlines between each page\n",
    "\n",
    "    return all_text\n",
    "\n",
    "\n",
    "# Replace 'your_file.pdf' with the path to the PDF file you want to read\n",
    "file_path = \"Rowan_Osmon_-_Shell_Hacks.PDF\"\n",
    "extracted_text = extract_pdf_text(file_path)\n",
    "print(extracted_text)"
   ]
  },
  {
   "cell_type": "code",
   "execution_count": null,
   "metadata": {},
   "outputs": [],
   "source": [
    "extracted_text\n",
    "print(extracted_text)"
   ]
  },
  {
   "cell_type": "markdown",
   "metadata": {},
   "source": [
    "check total token count\n"
   ]
  },
  {
   "cell_type": "code",
   "execution_count": null,
   "metadata": {},
   "outputs": [],
   "source": [
    "from transformers import GPT2Tokenizer\n",
    "\n",
    "\n",
    "def count_tokens_openai(text):\n",
    "    tokenizer = GPT2Tokenizer.from_pretrained(\"gpt2\")\n",
    "    encoded_input = tokenizer(text)\n",
    "    return len(encoded_input[\"input_ids\"])\n",
    "\n",
    "\n",
    "# Test the function\n",
    "token_count = count_tokens_openai(extracted_text)\n",
    "print(f\"Total token count: {token_count}\")"
   ]
  },
  {
   "cell_type": "code",
   "execution_count": null,
   "metadata": {},
   "outputs": [],
   "source": [
    "tokenizer = transformers.AutoTokenizer.from_pretrained(\"openai-gpt\")\n",
    "\n",
    "# Tokenize a sentence\n",
    "tokens = tokenizer(extracted_text)\n",
    "\n",
    "# Print the tokens\n",
    "print(tokens)"
   ]
  },
  {
   "cell_type": "code",
   "execution_count": null,
   "metadata": {},
   "outputs": [],
   "source": [
    "def num_tokens_from_string(string: str, encoding_name: str) -> int:\n",
    "    \"\"\"Returns the number of tokens in a text string.\"\"\"\n",
    "    encoding = tiktoken.get_encoding(encoding_name)\n",
    "    num_tokens = len(encoding.encode(string))\n",
    "    return num_tokens\n",
    "\n",
    "\n",
    "res = num_tokens_from_string(extracted_text, \"gpt2\")\n",
    "res"
   ]
  },
  {
   "cell_type": "code",
   "execution_count": null,
   "metadata": {},
   "outputs": [],
   "source": [
    "extracted_text_edited = extracted_text.replace(\"\\n\", \" \")\n",
    "message = f\"please analyze this resume: {extracted_text_edited}\"\n",
    "message"
   ]
  },
  {
   "cell_type": "code",
   "execution_count": null,
   "metadata": {},
   "outputs": [],
   "source": [
    "chat_completion = openai.ChatCompletion.create(\n",
    "    model=\"gpt-4\", messages=[{\"role\": \"user\", f\"content\": message}]\n",
    ")\n",
    "\n",
    "# print the chat completion\n",
    "print(chat_completion.choices[0].message.content)"
   ]
  },
  {
   "cell_type": "markdown",
   "metadata": {},
   "source": [
    "test function calling to extract person details\n"
   ]
  },
  {
   "cell_type": "code",
   "execution_count": null,
   "metadata": {},
   "outputs": [],
   "source": [
    "messages = [{\"role\": \"user\", \"content\": extracted_text_edited}]\n",
    "functions = [\n",
    "    {\n",
    "        \"name\": \"extractPersonDetails\",\n",
    "        \"description\": \"extract personal details from resume text\",\n",
    "        \"parameters\": {\n",
    "            \"type\": \"object\",\n",
    "            \"properties\": {\n",
    "                \"firstname\": {\n",
    "                    \"type\": \"string\",\n",
    "                    \"description\": \"first name from resume eg john\",\n",
    "                },\n",
    "                \"lastname\": {\n",
    "                    \"type\": \"string\",\n",
    "                    \"description\": \"last name from resume eg doe\",\n",
    "                },\n",
    "                \"email\": {\n",
    "                    \"type\": \"string\",\n",
    "                    \"description\": \"email from resume eg john@gmail.com\",\n",
    "                },\n",
    "                \"phonenumber\": {\n",
    "                    \"type\": \"string\",\n",
    "                    \"description\": \"phone number from resume eg 1234567890\",\n",
    "                },\n",
    "                \"link1\": {\n",
    "                    \"type\": \"string\",\n",
    "                    \"description\": \"link from resume eg linkedin.com/johndoe\",\n",
    "                },\n",
    "                \"link2\": {\n",
    "                    \"type\": \"string\",\n",
    "                    \"description\": \"link from resume eg github.com/johndoe\",\n",
    "                },\n",
    "                \"link3\": {\n",
    "                    \"type\": \"string\",\n",
    "                    \"description\": \"link from resume eg personalwebsite.com/johndoe\",\n",
    "                },\n",
    "            },\n",
    "            \"required\": [\"firstname\", \"lastname\", \"email\", \"phonenumber\"],\n",
    "        },\n",
    "    }\n",
    "]\n",
    "response = openai.ChatCompletion.create(\n",
    "    model=\"gpt-4\",\n",
    "    messages=messages,\n",
    "    functions=functions,\n",
    "    function_call=\"auto\",  # auto is default, but we'll be explicit\n",
    ")\n",
    "response_message = response[\"choices\"][0][\"message\"][\"function_call\"]\n",
    "response_message"
   ]
  },
  {
   "cell_type": "code",
   "execution_count": null,
   "metadata": {},
   "outputs": [],
   "source": [
    "json_text = json.loads(response_message.to_dict()[\"arguments\"])\n",
    "json_text"
   ]
  },
  {
   "cell_type": "markdown",
   "metadata": {},
   "source": [
    "AI skill extraction\n"
   ]
  },
  {
   "cell_type": "code",
   "execution_count": null,
   "metadata": {},
   "outputs": [],
   "source": [
    "messages = [{\"role\": \"user\", \"content\": extracted_text_edited}]\n",
    "functions = [\n",
    "    {\n",
    "        \"name\": \"extractPersonSkills\",\n",
    "        \"description\": \"extract list of skills from resume text\",\n",
    "        \"parameters\": {\n",
    "            \"type\": \"object\",\n",
    "            \"properties\": {\n",
    "                \"skills\": {\n",
    "                    \"type\": \"string\",\n",
    "                    \"description\": \"list of skills from resume eg ['python','java', 'gcp', 'aws']\",\n",
    "                }\n",
    "            },\n",
    "            \"required\": [\"skills\"],\n",
    "        },\n",
    "    }\n",
    "]\n",
    "response = openai.ChatCompletion.create(\n",
    "    model=\"gpt-4\",\n",
    "    messages=messages,\n",
    "    functions=functions,\n",
    "    function_call=\"auto\",  # auto is default, but we'll be explicit\n",
    ")\n",
    "response_message = response[\"choices\"][0][\"message\"][\"function_call\"]\n",
    "response_message"
   ]
  },
  {
   "cell_type": "code",
   "execution_count": null,
   "metadata": {},
   "outputs": [],
   "source": [
    "json_text = json.loads(response_message.to_dict()[\"arguments\"])\n",
    "json_text = [x.strip() for x in json_text[\"skills\"].split(\",\")]\n",
    "json_text"
   ]
  },
  {
   "cell_type": "code",
   "execution_count": null,
   "metadata": {},
   "outputs": [],
   "source": [
    "messages = [{\"role\": \"user\", \"content\": extracted_text_edited}]\n",
    "functions = [\n",
    "    {\n",
    "        \"name\": \"extractPersonEducation\",\n",
    "        \"description\": \"extract list of education from resume text\",\n",
    "        \"parameters\": {\n",
    "            \"type\": \"object\",\n",
    "            \"properties\": {\n",
    "                \"education\": {\n",
    "                    \"type\": \"object\",\n",
    "                    \"description\": \"a json array of education from resume eg [{'name':'FIU', 'degree':'Bachelors of Science', 'major':'Computer Science', 'graduationDate':'2021'}]\",\n",
    "                    \"properties\": {\n",
    "                        \"name\": {\n",
    "                            \"type\": \"string\",\n",
    "                            \"description\": \"name of education from resume such as colleges and bootcamps eg FIU, 4geeks\",\n",
    "                        },\n",
    "                        \"degree\": {\n",
    "                            \"type\": \"string\",\n",
    "                            \"description\": \"degree from resume eg Bachelors of Science\",\n",
    "                        },\n",
    "                        \"major\": {\n",
    "                            \"type\": \"string\",\n",
    "                            \"description\": \"major from resume eg Computer Science, business, engineering\",\n",
    "                        },\n",
    "                        \"graduationDate\": {\n",
    "                            \"type\": \"string\",\n",
    "                            \"description\": \"graduation date from resume eg 2021, 2022, 2023\",\n",
    "                        },\n",
    "                    },\n",
    "                }\n",
    "            },\n",
    "            \"required\": [\"name\", \"degree\", \"major\", \"graduationDate\"],\n",
    "        },\n",
    "    }\n",
    "]\n",
    "response = openai.ChatCompletion.create(\n",
    "    model=\"gpt-4\",\n",
    "    messages=messages,\n",
    "    functions=functions,\n",
    "    function_call=\"auto\",  # auto is default, but we'll be explicit\n",
    ")\n",
    "response_message = response[\"choices\"][0][\"message\"][\"function_call\"]\n",
    "response_message"
   ]
  },
  {
   "cell_type": "code",
   "execution_count": null,
   "metadata": {},
   "outputs": [],
   "source": [
    "json_text = json.loads(response_message.to_dict()[\"arguments\"])\n",
    "json_text"
   ]
  },
  {
   "cell_type": "code",
   "execution_count": null,
   "metadata": {},
   "outputs": [],
   "source": [
    "messages = [{\"role\": \"user\", \"content\": extracted_text_edited}]\n",
    "functions = [\n",
    "    {\n",
    "        \"name\": \"extractPersonExperience\",\n",
    "        \"description\": \"extract an array of experiences from resume text\",\n",
    "        \"parameters\": {\n",
    "            \"type\": \"object\",\n",
    "            \"properties\": {\n",
    "                \"experience\": {\n",
    "                    \"type\": \"object\",\n",
    "                    \"description\": \" a json array of experiences from resume eg [{'name':'google', 'title':'software engineer', 'company':'google', 'start':'2021', 'end':'2022', 'description':'built a website using react and python'}], must return the job object in an array\",\n",
    "                    \"properties\": {\n",
    "                        \"title\": {\n",
    "                            \"type\": \"string\",\n",
    "                            \"description\": \"job title from resume eg software engineer, data scientist\",\n",
    "                        },\n",
    "                        \"company\": {\n",
    "                            \"type\": \"string\",\n",
    "                            \"description\": \"name of company from resume eg google, facebook\",\n",
    "                        },\n",
    "                        \"start\": {\n",
    "                            \"type\": \"string\",\n",
    "                            \"description\": \"start date from resume eg 2021, 2022, 2023 or november 2021, april 2022\",\n",
    "                        },\n",
    "                        \"end\": {\n",
    "                            \"type\": \"string\",\n",
    "                            \"description\": \"end date from resume eg 2021, 2022, 2023 or november 2021, april 2022\",\n",
    "                        },\n",
    "                        \"description\": {\n",
    "                            \"type\": \"string\",\n",
    "                            \"description\": \"job description from resume eg built a website using react and python\",\n",
    "                        },\n",
    "                    },\n",
    "                }\n",
    "            },\n",
    "            \"required\": [\"title\", \"company\", \"start\", \"end\", \"description\"],\n",
    "        },\n",
    "    }\n",
    "]\n",
    "response = openai.ChatCompletion.create(\n",
    "    model=\"gpt-4\",\n",
    "    messages=messages,\n",
    "    functions=functions,\n",
    "    function_call=\"auto\",  # auto is default, but we'll be explicit\n",
    ")\n",
    "response_message = response[\"choices\"][0][\"message\"][\"function_call\"]\n",
    "response_message"
   ]
  },
  {
   "cell_type": "code",
   "execution_count": null,
   "metadata": {},
   "outputs": [],
   "source": [
    "json_text = json.loads(response_message.to_dict()[\"arguments\"])\n",
    "json_text"
   ]
  },
  {
   "cell_type": "code",
   "execution_count": null,
   "metadata": {},
   "outputs": [],
   "source": [
    "job_url = \"https://getwork.com/search/results?keyword=software+engineer&company_ids=&location=&jobId=bc76c8963dd9d02af0335b53567c01bb\""
   ]
  },
  {
   "cell_type": "markdown",
   "metadata": {},
   "source": [
    "naive, only get initial page load"
   ]
  },
  {
   "cell_type": "code",
   "execution_count": null,
   "metadata": {},
   "outputs": [],
   "source": [
    "\n",
    "\n",
    "def scraper(url):\n",
    "    try:\n",
    "        # Fetch the content of the URL using the requests library\n",
    "        response = requests.get(url)\n",
    "        response.raise_for_status()  # Raise an HTTPError for bad responses\n",
    "        \n",
    "        # Parse the HTML content using BeautifulSoup\n",
    "        soup = BeautifulSoup(response.text, 'html.parser')\n",
    "        \n",
    "        # Extract and return text content (as a demonstration)\n",
    "        text_content = soup.stripped_strings\n",
    "        return ' '.join(text_content)\n",
    "        \n",
    "    except requests.RequestException as e:\n",
    "        return f\"An error occurred: {e}\"\n",
    "\n",
    "content = scraper(job_url)\n",
    "print(content)\n"
   ]
  },
  {
   "cell_type": "markdown",
   "metadata": {},
   "source": [
    "using a headless web driver"
   ]
  },
  {
   "cell_type": "code",
   "execution_count": null,
   "metadata": {},
   "outputs": [],
   "source": [
    "from selenium import webdriver\n",
    "from selenium.webdriver.chrome.options import Options\n",
    "from bs4 import BeautifulSoup\n",
    "\n",
    "def scraper(url):\n",
    "    try:\n",
    "        # Initialize headless Chrome\n",
    "        chrome_options = Options()\n",
    "        chrome_options.add_argument(\"--headless\")\n",
    "        driver = webdriver.Chrome(options=chrome_options)\n",
    "\n",
    "        # Navigate to the URL\n",
    "        driver.get(url)\n",
    "\n",
    "        # Optional: Wait for JavaScript to load the dynamic content\n",
    "        # You can set a specific time or wait for a specific element to appear\n",
    "        # import time\n",
    "        # time.sleep(5)\n",
    "\n",
    "        # Get the page source\n",
    "        page_source = driver.page_source\n",
    "\n",
    "        # Close the browser\n",
    "        driver.quit()\n",
    "\n",
    "        # Parse the HTML content using BeautifulSoup\n",
    "        soup = BeautifulSoup(page_source, 'html.parser')\n",
    "\n",
    "        # Search for the element by its id\n",
    "        job_desc_elem = soup.find(id='job-desc')\n",
    "        # print(job_desc_elem)\n",
    "\n",
    "        # Extract and return the text content if the element is found\n",
    "        if job_desc_elem:\n",
    "            text_content = job_desc_elem.stripped_strings\n",
    "            return ' '.join(text_content)\n",
    "        else:\n",
    "            return \"Element with id 'job-desc' not found\"\n",
    "\n",
    "    except Exception as e:\n",
    "        return f\"An error occurred: {e}\"\n",
    "\n",
    "# Example usage\n",
    "if __name__ == \"__main__\":\n",
    "    job_url = job_url\n",
    "    content = scraper(job_url)\n",
    "    print(content)\n"
   ]
  },
  {
   "cell_type": "code",
   "execution_count": null,
   "metadata": {},
   "outputs": [],
   "source": [
    "from datetime import datetime\n",
    "\n",
    "messages = [{\"role\": \"user\", \"content\": f'currentdate:{datetime.now().strftime(\"%Y-%m-%d %H:%M:%S\")}, job details: {content}'}]\n",
    "functions = [\n",
    "    {\n",
    "        \"name\": \"extractJobDetails\",\n",
    "        \"description\": \"extract job details from job description text, return json object\",\n",
    "        \"parameters\": {\n",
    "            \"type\": \"object\",\n",
    "            \"properties\": {\n",
    "                \"experience\": {\n",
    "                    \"type\": \"object\",\n",
    "                    \"description\": \"\",\n",
    "                    \"properties\": {\n",
    "                        \"description\": {\n",
    "                            \"type\": \"string\",\n",
    "                            \"description\": \"job description from job description text eg a SaaS company is looking for a software engineer to build a website using react and python\",\n",
    "                        },\n",
    "                        \"responsibilities\": {\n",
    "                            \"type\": \"string\",\n",
    "                            \"description\": \"job responsibilities from job description text eg take requirements from product manager and convert them to business logic\",\n",
    "                        },\n",
    "                        \"requirements\": {\n",
    "                            \"type\": \"string\",\n",
    "                            \"description\": \"job requirements from job description text eg \",\n",
    "                        },\n",
    "                        \"compensation\": {\n",
    "                            \"type\": \"string\",\n",
    "                            \"description\": \"job compensation from job description text eg $50,000 to $100,000\",\n",
    "                        },\n",
    "                        \"benefits\": {\n",
    "                            \"type\": \"string\",\n",
    "                            \"description\": \"a summary of the job benefits from job description text eg we offer health insurance, dental insurance, and 401k\",\n",
    "                        },\n",
    "                        \"companyvalues\": {\n",
    "                            \"type\": \"string\",\n",
    "                            \"description\": \"a summary of the company values from job description text eg we value diversity, inclusion, and teamwork\",\n",
    "                        },\n",
    "                        \"deadline\": {\n",
    "                            \"type\": \"string\",\n",
    "                            \"description\": \"a deadline for the job application from job description text eg 2021-10-10\",\n",
    "                        },\n",
    "                        \"regularhours\": {\n",
    "                            \"type\": \"string\",\n",
    "                            \"description\": \"Get Job regularhours of job from job description text the type is one of the following: fulltime, parttime, contract, internship, temporary, or volunteer\",\n",
    "                        }\n",
    "                    },\n",
    "                }\n",
    "            },\n",
    "            \"required\": [\"description\", \"responsibilities\", \"requirements\", \"compensation\", \"benefits\", \"companyvalues\", \"deadline\", \"type\"],\n",
    "        },\n",
    "    }\n",
    "]\n",
    "response = openai.ChatCompletion.create(\n",
    "    model=\"gpt-4\",\n",
    "    messages=messages,\n",
    "    functions=functions,\n",
    "    function_call=\"auto\",  # auto is default, but we'll be explicit\n",
    ")\n",
    "response_message = response[\"choices\"][0][\"message\"][\"function_call\"]\n",
    "response_message"
   ]
  },
  {
   "cell_type": "code",
   "execution_count": null,
   "metadata": {},
   "outputs": [],
   "source": [
    "json_text = json.loads(response_message[\"arguments\"])\n",
    "json_text\n"
   ]
  },
  {
   "cell_type": "code",
   "execution_count": null,
   "metadata": {},
   "outputs": [],
   "source": [
    "from datetime import datetime\n",
    "\n",
    "messages = [{\"role\": \"user\", \"content\": f'currentdate:{datetime.now().strftime(\"%Y-%m-%d %H:%M:%S\")}, job details: {content}'}]\n",
    "functions = [\n",
    "    {\n",
    "        \"name\": \"extractJobSkills\",\n",
    "        \"description\": \"extract a list of technical job skills from job description text\",\n",
    "        \"parameters\": {\n",
    "            \"type\": \"object\",\n",
    "            \"properties\": {\n",
    "                \"skills\": {\n",
    "                    \"type\": \"object\",\n",
    "                    \"description\": \"returns a json array of technical job skills from job description text eg [{'name':'python', 'description':'python is a programming language'}]\",\n",
    "                    \"properties\": {\n",
    "                        \"Skillname\": {\n",
    "                            \"type\": \"string\",\n",
    "                            \"description\": \"technical job skill or requirement from job description text eg python, java, docker, aws, gcp\",\n",
    "                        },\n",
    "                        \"skilldescription\": {\n",
    "                            \"type\": \"string\",\n",
    "                            \"description\": \"a short summarized description of technical job skills from job description and the experience level text eg intermediate python is a programming language\",\n",
    "                        },\n",
    "                    },\n",
    "                }\n",
    "            },\n",
    "            \"required\": [\"name\", \"description\"],\n",
    "        },\n",
    "    }\n",
    "]\n",
    "response = openai.ChatCompletion.create(\n",
    "    model=\"gpt-4\",\n",
    "    messages=messages,\n",
    "    functions=functions,\n",
    "    function_call=\"auto\",  # auto is default, but we'll be explicit\n",
    ")\n",
    "response_message = response[\"choices\"][0][\"message\"][\"function_call\"]\n",
    "response_message"
   ]
  },
  {
   "cell_type": "code",
   "execution_count": null,
   "metadata": {},
   "outputs": [],
   "source": [
    "json_text = json.loads(response_message[\"arguments\"])\n",
    "json_text"
   ]
  },
  {
   "cell_type": "code",
   "execution_count": null,
   "metadata": {},
   "outputs": [],
   "source": [
    "from datetime import datetime\n",
    "\n",
    "messages = [{\"role\": \"user\", \"content\": f'currentdate:{datetime.now().strftime(\"%Y-%m-%d %H:%M:%S\")}, job details: {content}'}]\n",
    "functions = [\n",
    "    {\n",
    "        \"name\": \"extractJobLocation\",\n",
    "        \"description\": \"extract job location from job description text\",\n",
    "        \"parameters\": {\n",
    "            \"type\": \"object\",\n",
    "            \"properties\": {\n",
    "                \"location\": {\n",
    "                    \"type\": \"object\",\n",
    "                    \"description\": \"returns a details of the jobs location from job description text eg [{'city':'miami', 'state':'florida', 'country':'united states', 'remote':'false'}] \",\n",
    "                    \"properties\": {\n",
    "                        \"city\": {\n",
    "                            \"type\": \"string\",\n",
    "                            \"description\": \"extract city from job description text eg miami, new york, san francisco\",\n",
    "                        },\n",
    "                        \"state\": {\n",
    "                            \"type\": \"string\",\n",
    "                            \"description\": \"extract state from job description text eg florida, new york, california\",\n",
    "                        },\n",
    "                        \"country\": {\n",
    "                            \"type\": \"string\",\n",
    "                            \"description\": \"extract country from job description text eg united states, canada, mexico\",\n",
    "                        },\n",
    "                        \"remote\": {\n",
    "                            \"type\": \"string\",\n",
    "                            \"description\": \"extract remote from job description text eg true, false\",\n",
    "                        },\n",
    "                    },\n",
    "                }\n",
    "            },\n",
    "            \"required\": [\"city\", \"state\", \"country\", \"remote\"],\n",
    "        },\n",
    "    }\n",
    "]\n",
    "response = openai.ChatCompletion.create(\n",
    "    model=\"gpt-4\",\n",
    "    messages=messages,\n",
    "    functions=functions,\n",
    "    function_call=\"auto\",  # auto is default, but we'll be explicit\n",
    ")\n",
    "response_message = response[\"choices\"][0][\"message\"][\"function_call\"]\n",
    "response_message"
   ]
  },
  {
   "cell_type": "code",
   "execution_count": null,
   "metadata": {},
   "outputs": [],
   "source": [
    "json_text = json.loads(response_message[\"arguments\"])\n",
    "json_text"
   ]
  },
  {
   "cell_type": "markdown",
   "metadata": {},
   "source": [
    "summary function"
   ]
  },
  {
   "cell_type": "code",
   "execution_count": null,
   "metadata": {},
   "outputs": [],
   "source": [
    "from datetime import datetime\n",
    "\n",
    "messages = [{\"role\": \"user\", \"content\": content}]\n",
    "functions = [\n",
    "    {\n",
    "        \"name\": \"summary\",\n",
    "        \"description\": \"a long detailed summary of text, include all details\",\n",
    "        \"parameters\": {\n",
    "            \"type\": \"object\",\n",
    "            \"properties\": {\n",
    "                \"summary\": {\n",
    "                    \"type\": \"string\",\n",
    "                    \"description\": \"summary of text\",\n",
    "                    },\n",
    "                }\n",
    "            },\n",
    "            \"required\": [\"city\", \"state\", \"country\", \"remote\"],\n",
    "    }\n",
    "]\n",
    "response = openai.ChatCompletion.create(\n",
    "    model=\"gpt-4\",\n",
    "    messages=messages,\n",
    "    functions=functions,\n",
    "    function_call=\"auto\",  # auto is default, but we'll be explicit\n",
    ")\n",
    "response_message = response[\"choices\"][0][\"message\"][\"function_call\"]\n",
    "response_message"
   ]
  },
  {
   "cell_type": "code",
   "execution_count": null,
   "metadata": {},
   "outputs": [],
   "source": [
    "json_text = json.loads(response_message[\"arguments\"])\n",
    "json_text"
   ]
  },
  {
   "cell_type": "markdown",
   "metadata": {},
   "source": [
    "analysis"
   ]
  },
  {
   "cell_type": "code",
   "execution_count": 56,
   "metadata": {},
   "outputs": [
    {
     "data": {
      "text/plain": [
       "<OpenAIObject at 0x11f2b65e0> JSON: {\n",
       "  \"name\": \"analyze\",\n",
       "  \"arguments\": \"{\\n  \\\"topics\\\": \\\"job details: \\u2039 Back Software Engineer Blue Cross and Blue Shield Association Chattanooga, TN 37402 Posted 17 hours ago Apply Save Email Send By creating an alert, you agree to our Terms & Conditions and Privacy Notice , and Cookie Use Provides application design, analysis, programming, testing and documentation for the development, integration, enhancement, and maintenance of information systems solutions. Job Description: BlueCross, as a federal contractor, may be required to implement a COVID-19 vaccine mandate. Job Responsibilities Formulates and defines system scope and objectives through research and fact-finding to design, develop, modify, or integrate complex information systems. Devises or modifies application systems and procedures to optimize functional requirements including capacity, operating time, response time, and form of desired results. Designs, codes, tests, debugs, and documents programs, subroutines, and scripts. May serve one or more project team roles, such as project lead, business systems analyst, or technical lead, for small to medium efforts or manage phases of medium to large efforts. Maintains technical skill set for software languages, databases, platforms, operating systems, utilities and networks needed to support work assignments. Responds to system failures and performance events by taking appropriate measures to reduce system downtime and eliminate recurrence of problems. Regularly provides guidance and training to less-experienced analysts/programmers. Job Qualifications Education Bachelors Degree in Computer Science or equivalent work experience required. Equivalent years of experience are determined as one year of technical experience for every year of college requested. Experience 1 year - Experience with information technology concepts, application development methodology, terminology, and standards required 3 years - Systems and programming experience required 1 year - Expert working knowledge of at least one programming language in use at BCBST. Skills\\\\\\\\Certifications Proven skill with information technology in use at BCBST is required Proven analysis, design, and coding skills, and demonstrated success in leading large and complex projects Demonstrated ability to interpret and translate technical and/or or complex concepts into information meaningful to project team members and/or business personnel. Be organized, reliable, and able to manage multiple tasks with exceptional work ethic. Leadership skills Must be able to communicate effectively with both technical and non-technical co-workers Job Specific Requirements: Preferred experience working with Dynamics 365 (CRM) \\n  resume: Rowan Wolf Osmon Software Engineering New Grad, University Of Washington rowanosmon@gmail.com | 253-225-1563 | Based in Tacoma/Seattle, WA linkedin.com/in/rowanosmon | github.com/grumblefoot SKILLS AND RELEVANT EXPERIENCE Programming Languages & Databases: Java, JavaScript, C, Python, R, Swift, SQL, NoSQL, Firebase, Node.js with React Coursework Skills: Object-Oriented Programming, Data Structures & Algorithms , Database Design, Quality Assurance Development Tools: Git, Solidworks (3D Modeling), IntelliJ, VisualStudio, Heroku, Jira, Eclipse Experience: 5 years management in the automotive field, 10 years of automotive diagnostics and repair, Certified in 3D design Hobbies: Designing and printing 3D models for use in both work and personal projects, Painting, Improv acting EDUCATION & COURSEWORK Bachelor of Science, University of Washington Seattle, WA \\u25cf Major: Computer Science - 2021- Dec 2023 Associate of Science, Tacoma Community College Tacoma, WA \\u25cf Major: Computer Science - 2018- 2021 WORK EXPERIENCE Software Engineer Intern, Full Stack - Teamwyrk.org Mar 2023 - Present \\u25cf Collaborated with a senior engineer to develop multiple features. Facilitated cloud storage, security, and authentication services  through Firebase. Tested completed features and pushed code for review on a weekly basis. \\u25cf Fostered cross-functional collaboration by closely working with Technical Program Managers and User Experience teams;  contributed to user-centric design, functionality, and feedback sessions, thereby enhancing project output. \\u25cf Utilized expertise in Node.js, JavaScript, React, and other tools and languages like IntelliJ, VisualStudio, Git, Heroku, Java, Python,  and JavaScript; leveraged Jira for efficient task management, ensuring timely delivery of project features. \\u25cf Participated actively in weekly meetings and debriefs, engaged in regular mentorship sessions, and balanced independent work with  team collaboration to meet project deadlines; gained experience in Agile Methodology and Scrum ceremonies, experienced in  full-stack developer roles. PROJECTS Full-stack website project - https://github.com/grumblefoot/AutomotiveFullStack Mar 2023 - Jun 2023 \\u25cf Collaborated on the design and execution of a full-stack website based on my automotive experiences using Node.js and React,  integrated with a personal MySQL server, using Git to control and review workflow, highlighting teamwork and full-stack  development expertise. \\u25cf Developed detailed software documentation, including an SRS (Software Requirements Specification), ER (Entity-Relationship)  diagram, and schema, reflecting a strong understanding of database architecture and design. \\u25cf Built a custom API for seamless data communication between the React frontend and MySQL backend, exhibiting advanced skills in  API development and data integration. \\u25cf Established secure remote access to the MySQL server, enabling effective team collaboration and demonstrating proficiency in  server management and user authentication. \\u25cf Used Git to ensure all features are reviewed, tested, and working before being pushed to the live site. Adhered to clean code  principles as well as comments in code for clarity of intent. Random Adventure Dungeon Simulator Jul 2022 - Aug 2022 \\u25cf Led a full software development lifecycle by conceptualizing, designing, implementing, testing, and maintaining a Java game based  on modularity Object-Oriented Programming, along with 2 team members. LEADERSHIP Google Developer Student Club, Vice President & Secretary Sep 2022 - Apr 2023 \\u25cf Developed strategic partnerships with the Dean of Student Involvement to secure funding for student activities related to Computer  Science. \\u25cf Managed and facilitated both in-person and online speaker panels and events, while meticulously maintaining records of all club  activities, meeting minutes, and providing support to the club president. CERTIFICATES \\u25cf Code academy - Learn Java, Learn Swift, Core Foundations  \\u25cf SolidWorks - Mechanical Design Associate Certification  \\u25cf Revit - Fundamentals of Architecture\\\"\\n}\"\n",
       "}"
      ]
     },
     "execution_count": 56,
     "metadata": {},
     "output_type": "execute_result"
    }
   ],
   "source": [
    "messages = [{\"role\": \"user\", \"content\": f\"job details: {content} \\n resume: {extracted_text_edited}\" }]\n",
    "functions = [\n",
    "    {\n",
    "        \"name\": \"analyze\",\n",
    "        \"description\": \"returns a list of strong points when comparing a resume and job description\",\n",
    "        \"parameters\": {\n",
    "            \"type\": \"object\",\n",
    "            \"properties\": {\n",
    "                \"topics\": {\n",
    "                    \"type\": \"string\",\n",
    "                    \"description\": \"analisys of resume and job description eg [{'topic':'experience', 'details':'you dont have enought experience for this job, the job requires 4 years and you only have 3'}, {'topic':'education', 'details':'you have a bachelors of science in computer science'}]\",\n",
    "                    },\n",
    "                }\n",
    "            },\n",
    "            \"required\": [\"topics\"],\n",
    "    }\n",
    "]\n",
    "response = openai.ChatCompletion.create(\n",
    "    model=\"gpt-4\",\n",
    "    messages=messages,\n",
    "    functions=functions,\n",
    "    function_call=\"auto\",  # auto is default, but we'll be explicit\n",
    ")\n",
    "response_message = response[\"choices\"][0][\"message\"][\"function_call\"]\n",
    "response_message"
   ]
  },
  {
   "cell_type": "code",
   "execution_count": 57,
   "metadata": {},
   "outputs": [
    {
     "ename": "JSONDecodeError",
     "evalue": "Invalid control character at: line 2 column 2673 (char 2674)",
     "output_type": "error",
     "traceback": [
      "\u001b[0;31m---------------------------------------------------------------------------\u001b[0m",
      "\u001b[0;31mJSONDecodeError\u001b[0m                           Traceback (most recent call last)",
      "\u001b[1;32m/Users/earlcameron/Desktop/repos/resume-wizard/experiment/test.ipynb Cell 46\u001b[0m line \u001b[0;36m1\n\u001b[0;32m----> <a href='vscode-notebook-cell:/Users/earlcameron/Desktop/repos/resume-wizard/experiment/test.ipynb#X65sZmlsZQ%3D%3D?line=0'>1</a>\u001b[0m json_text \u001b[39m=\u001b[39m json\u001b[39m.\u001b[39;49mloads(response_message[\u001b[39m\"\u001b[39;49m\u001b[39marguments\u001b[39;49m\u001b[39m\"\u001b[39;49m])\n\u001b[1;32m      <a href='vscode-notebook-cell:/Users/earlcameron/Desktop/repos/resume-wizard/experiment/test.ipynb#X65sZmlsZQ%3D%3D?line=1'>2</a>\u001b[0m json_text\n",
      "File \u001b[0;32m~/miniforge3/envs/resumewizard/lib/python3.8/json/__init__.py:357\u001b[0m, in \u001b[0;36mloads\u001b[0;34m(s, cls, object_hook, parse_float, parse_int, parse_constant, object_pairs_hook, **kw)\u001b[0m\n\u001b[1;32m    352\u001b[0m     \u001b[39mdel\u001b[39;00m kw[\u001b[39m'\u001b[39m\u001b[39mencoding\u001b[39m\u001b[39m'\u001b[39m]\n\u001b[1;32m    354\u001b[0m \u001b[39mif\u001b[39;00m (\u001b[39mcls\u001b[39m \u001b[39mis\u001b[39;00m \u001b[39mNone\u001b[39;00m \u001b[39mand\u001b[39;00m object_hook \u001b[39mis\u001b[39;00m \u001b[39mNone\u001b[39;00m \u001b[39mand\u001b[39;00m\n\u001b[1;32m    355\u001b[0m         parse_int \u001b[39mis\u001b[39;00m \u001b[39mNone\u001b[39;00m \u001b[39mand\u001b[39;00m parse_float \u001b[39mis\u001b[39;00m \u001b[39mNone\u001b[39;00m \u001b[39mand\u001b[39;00m\n\u001b[1;32m    356\u001b[0m         parse_constant \u001b[39mis\u001b[39;00m \u001b[39mNone\u001b[39;00m \u001b[39mand\u001b[39;00m object_pairs_hook \u001b[39mis\u001b[39;00m \u001b[39mNone\u001b[39;00m \u001b[39mand\u001b[39;00m \u001b[39mnot\u001b[39;00m kw):\n\u001b[0;32m--> 357\u001b[0m     \u001b[39mreturn\u001b[39;00m _default_decoder\u001b[39m.\u001b[39;49mdecode(s)\n\u001b[1;32m    358\u001b[0m \u001b[39mif\u001b[39;00m \u001b[39mcls\u001b[39m \u001b[39mis\u001b[39;00m \u001b[39mNone\u001b[39;00m:\n\u001b[1;32m    359\u001b[0m     \u001b[39mcls\u001b[39m \u001b[39m=\u001b[39m JSONDecoder\n",
      "File \u001b[0;32m~/miniforge3/envs/resumewizard/lib/python3.8/json/decoder.py:337\u001b[0m, in \u001b[0;36mJSONDecoder.decode\u001b[0;34m(self, s, _w)\u001b[0m\n\u001b[1;32m    332\u001b[0m \u001b[39mdef\u001b[39;00m \u001b[39mdecode\u001b[39m(\u001b[39mself\u001b[39m, s, _w\u001b[39m=\u001b[39mWHITESPACE\u001b[39m.\u001b[39mmatch):\n\u001b[1;32m    333\u001b[0m \u001b[39m    \u001b[39m\u001b[39m\"\"\"Return the Python representation of ``s`` (a ``str`` instance\u001b[39;00m\n\u001b[1;32m    334\u001b[0m \u001b[39m    containing a JSON document).\u001b[39;00m\n\u001b[1;32m    335\u001b[0m \n\u001b[1;32m    336\u001b[0m \u001b[39m    \"\"\"\u001b[39;00m\n\u001b[0;32m--> 337\u001b[0m     obj, end \u001b[39m=\u001b[39m \u001b[39mself\u001b[39;49m\u001b[39m.\u001b[39;49mraw_decode(s, idx\u001b[39m=\u001b[39;49m_w(s, \u001b[39m0\u001b[39;49m)\u001b[39m.\u001b[39;49mend())\n\u001b[1;32m    338\u001b[0m     end \u001b[39m=\u001b[39m _w(s, end)\u001b[39m.\u001b[39mend()\n\u001b[1;32m    339\u001b[0m     \u001b[39mif\u001b[39;00m end \u001b[39m!=\u001b[39m \u001b[39mlen\u001b[39m(s):\n",
      "File \u001b[0;32m~/miniforge3/envs/resumewizard/lib/python3.8/json/decoder.py:353\u001b[0m, in \u001b[0;36mJSONDecoder.raw_decode\u001b[0;34m(self, s, idx)\u001b[0m\n\u001b[1;32m    344\u001b[0m \u001b[39m\u001b[39m\u001b[39m\"\"\"Decode a JSON document from ``s`` (a ``str`` beginning with\u001b[39;00m\n\u001b[1;32m    345\u001b[0m \u001b[39ma JSON document) and return a 2-tuple of the Python\u001b[39;00m\n\u001b[1;32m    346\u001b[0m \u001b[39mrepresentation and the index in ``s`` where the document ended.\u001b[39;00m\n\u001b[0;32m   (...)\u001b[0m\n\u001b[1;32m    350\u001b[0m \n\u001b[1;32m    351\u001b[0m \u001b[39m\"\"\"\u001b[39;00m\n\u001b[1;32m    352\u001b[0m \u001b[39mtry\u001b[39;00m:\n\u001b[0;32m--> 353\u001b[0m     obj, end \u001b[39m=\u001b[39m \u001b[39mself\u001b[39;49m\u001b[39m.\u001b[39;49mscan_once(s, idx)\n\u001b[1;32m    354\u001b[0m \u001b[39mexcept\u001b[39;00m \u001b[39mStopIteration\u001b[39;00m \u001b[39mas\u001b[39;00m err:\n\u001b[1;32m    355\u001b[0m     \u001b[39mraise\u001b[39;00m JSONDecodeError(\u001b[39m\"\u001b[39m\u001b[39mExpecting value\u001b[39m\u001b[39m\"\u001b[39m, s, err\u001b[39m.\u001b[39mvalue) \u001b[39mfrom\u001b[39;00m \u001b[39mNone\u001b[39;00m\n",
      "\u001b[0;31mJSONDecodeError\u001b[0m: Invalid control character at: line 2 column 2673 (char 2674)"
     ]
    }
   ],
   "source": [
    "json_text = json.loads(response_message[\"arguments\"])\n",
    "json_text"
   ]
  }
 ],
 "metadata": {
  "kernelspec": {
   "display_name": "resumewizard",
   "language": "python",
   "name": "python3"
  },
  "language_info": {
   "codemirror_mode": {
    "name": "ipython",
    "version": 3
   },
   "file_extension": ".py",
   "mimetype": "text/x-python",
   "name": "python",
   "nbconvert_exporter": "python",
   "pygments_lexer": "ipython3",
   "version": "3.8.17"
  },
  "orig_nbformat": 4
 },
 "nbformat": 4,
 "nbformat_minor": 2
}
